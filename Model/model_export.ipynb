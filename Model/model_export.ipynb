{
 "cells": [
  {
   "cell_type": "code",
   "execution_count": 1,
   "id": "9315801c",
   "metadata": {},
   "outputs": [],
   "source": [
    "from model import run_inference\n",
    "from ultralytics import YOLO\n",
    "import onnxruntime as ort\n",
    "import numpy as np\n",
    "import cv2\n",
    "import json"
   ]
  },
  {
   "cell_type": "code",
   "execution_count": 3,
   "id": "dcf022b6",
   "metadata": {},
   "outputs": [],
   "source": [
    "model_path = \"yolo11s.onnx\"\n",
    "onnx_model = ort.InferenceSession(model_path)\n",
    "\n",
    "with open(\"class_names.json\", 'r') as file:\n",
    "    class_names = json.load(file)\n",
    "    class_names = {int(k) : v for k, v in class_names.items()}\n",
    "\n",
    "image = cv2.imread(\"../groceries.png\")\n",
    "cv2.imshow(\"Original\", image)\n",
    "_ = cv2.waitKey(0)"
   ]
  },
  {
   "cell_type": "code",
   "execution_count": 4,
   "id": "c7a2c769",
   "metadata": {},
   "outputs": [
    {
     "name": "stdout",
     "output_type": "stream",
     "text": [
      "img width: 900 \n",
      "img height: 643\n"
     ]
    }
   ],
   "source": [
    "img_w, img_h = image.shape[1], image.shape[0]\n",
    "print(f\"img width: {img_w} \\nimg height: {img_h}\")"
   ]
  },
  {
   "cell_type": "code",
   "execution_count": 5,
   "id": "dd676ffd",
   "metadata": {},
   "outputs": [
    {
     "data": {
      "text/plain": [
       "(1, 3, 640, 640)"
      ]
     },
     "execution_count": 5,
     "metadata": {},
     "output_type": "execute_result"
    }
   ],
   "source": [
    "img = cv2.resize(image, (640, 640))\n",
    "img = cv2.cvtColor(img, cv2.COLOR_BGR2RGB)\n",
    "img = img.transpose(2, 0, 1)\n",
    "img = img.reshape(1, 3, 640, 640)\n",
    "img = img / 255.0\n",
    "img = img.astype(np.float32)\n",
    "img.shape"
   ]
  },
  {
   "cell_type": "code",
   "execution_count": 6,
   "id": "430b4e98",
   "metadata": {},
   "outputs": [
    {
     "data": {
      "text/plain": [
       "(8400, 84, 1)"
      ]
     },
     "execution_count": 6,
     "metadata": {},
     "output_type": "execute_result"
    }
   ],
   "source": [
    "outputs = onnx_model.run(None, {\"images\" : img})\n",
    "results = outputs[0]\n",
    "results = results.transpose()\n",
    "results.shape"
   ]
  },
  {
   "cell_type": "code",
   "execution_count": 7,
   "id": "159d6830",
   "metadata": {},
   "outputs": [
    {
     "data": {
      "text/plain": [
       "(109, 6)"
      ]
     },
     "execution_count": 7,
     "metadata": {},
     "output_type": "execute_result"
    }
   ],
   "source": [
    "A = []\n",
    "for detection in results:\n",
    "    class_id = detection[4:].argmax()\n",
    "    confidence_score = detection[4:].max()\n",
    "\n",
    "    new_detection = np.append(detection[:4], [class_id, confidence_score])\n",
    "    A.append(new_detection)\n",
    "A = np.array(A)\n",
    "\n",
    "predictions = np.array([detection for detection in A if detection[-1] > 0.2])\n",
    "predictions.shape"
   ]
  },
  {
   "cell_type": "code",
   "execution_count": 8,
   "id": "dca5c9b5",
   "metadata": {},
   "outputs": [
    {
     "name": "stdout",
     "output_type": "stream",
     "text": [
      "{'banana', 'orange', 'apple', 'broccoli'}\n"
     ]
    }
   ],
   "source": [
    "names = []\n",
    "for pred in predictions:\n",
    "    class_id = int(pred[-2])\n",
    "    names.append((class_names[class_id], pred[-1]))\n",
    "\n",
    "sorted_results = sorted(names, key=lambda x: x[1], reverse=True)\n",
    "top_results = set([x[0] for x in sorted_results])\n",
    "print(top_results)\n"
   ]
  }
 ],
 "metadata": {
  "kernelspec": {
   "display_name": ".env",
   "language": "python",
   "name": "python3"
  },
  "language_info": {
   "codemirror_mode": {
    "name": "ipython",
    "version": 3
   },
   "file_extension": ".py",
   "mimetype": "text/x-python",
   "name": "python",
   "nbconvert_exporter": "python",
   "pygments_lexer": "ipython3",
   "version": "3.12.9"
  }
 },
 "nbformat": 4,
 "nbformat_minor": 5
}
